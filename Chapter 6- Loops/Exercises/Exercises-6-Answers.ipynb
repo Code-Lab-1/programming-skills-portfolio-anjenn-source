{
 "cells": [
  {
   "cell_type": "markdown",
   "metadata": {},
   "source": [
    "Exercise 1"
   ]
  },
  {
   "cell_type": "code",
   "execution_count": 1,
   "metadata": {},
   "outputs": [
    {
     "name": "stdout",
     "output_type": "stream",
     "text": [
      "  I'll add sausage to your pizza.\n",
      "  I'll add pepperoni to your pizza.\n",
      "  I'll add tomato to your pizza.\n",
      "  I'll add onions to your pizza.\n"
     ]
    }
   ],
   "source": [
    "prompt = \"\\nWhat pizza toppings would you like?\"\n",
    "prompt += \"\\nEnter 'quit' when you are done! : \"\n",
    "\n",
    "while True:\n",
    "    topping = input(prompt)\n",
    "    if topping != 'quit':\n",
    "        print(\"  I'll add \" + topping + \" to your pizza.\")\n",
    "    else:\n",
    "        break"
   ]
  },
  {
   "cell_type": "markdown",
   "metadata": {},
   "source": [
    "Exercise 2"
   ]
  },
  {
   "cell_type": "code",
   "execution_count": 8,
   "metadata": {},
   "outputs": [
    {
     "name": "stdout",
     "output_type": "stream",
     "text": [
      "Your ticket is free!\n"
     ]
    }
   ],
   "source": [
    "prompt = \"How old are you?\"\n",
    "prompt += \"\\nEnter 'quit' when you are done.\"\n",
    "\n",
    "while True:\n",
    "    age = input()\n",
    "    if age == \"quit\":\n",
    "        break\n",
    "    age = int(age)\n",
    "    if age < 3:\n",
    "        print(\"Your ticket is free!\")\n",
    "    elif age >= 3 and age <= 12:\n",
    "        print(\"Your ticket is $10.\")\n",
    "    elif age > 12:\n",
    "        print(\"Your ticket is $15.\")"
   ]
  },
  {
   "cell_type": "markdown",
   "metadata": {},
   "source": [
    "Exercise 3"
   ]
  },
  {
   "cell_type": "code",
   "execution_count": 18,
   "metadata": {},
   "outputs": [
    {
     "name": "stdout",
     "output_type": "stream",
     "text": [
      "Your ticket is free!\n",
      "Your ticket is $10.\n",
      "Your ticket is $15.\n"
     ]
    },
    {
     "ename": "ValueError",
     "evalue": "invalid literal for int() with base 10: ''",
     "output_type": "error",
     "traceback": [
      "\u001b[0;31m---------------------------------------------------------------------------\u001b[0m",
      "\u001b[0;31mValueError\u001b[0m                                Traceback (most recent call last)",
      "Cell \u001b[0;32mIn [18], line 3\u001b[0m\n\u001b[1;32m      1\u001b[0m \u001b[39mwhile\u001b[39;00m \u001b[39mTrue\u001b[39;00m:\n\u001b[1;32m      2\u001b[0m     age \u001b[39m=\u001b[39m \u001b[39minput\u001b[39m(\u001b[39m\"\u001b[39m\u001b[39mWhat is your age?\u001b[39m\u001b[39m\"\u001b[39m)\n\u001b[0;32m----> 3\u001b[0m     age \u001b[39m=\u001b[39m \u001b[39mint\u001b[39;49m(age)\n\u001b[1;32m      4\u001b[0m     \u001b[39mif\u001b[39;00m age \u001b[39m<\u001b[39m \u001b[39m3\u001b[39m:\n\u001b[1;32m      5\u001b[0m         \u001b[39mprint\u001b[39m(\u001b[39m\"\u001b[39m\u001b[39mYour ticket is free!\u001b[39m\u001b[39m\"\u001b[39m)\n",
      "\u001b[0;31mValueError\u001b[0m: invalid literal for int() with base 10: ''"
     ]
    }
   ],
   "source": [
    "while True:\n",
    "    age = input(\"What is your age?\")\n",
    "    age = int(age)\n",
    "    if age < 3:\n",
    "        print(\"Your ticket is free!\")\n",
    "    elif age < 12:\n",
    "        print(\"Your ticket is $10.\")\n",
    "    else:\n",
    "        print(\"Your ticket is $15.\")"
   ]
  },
  {
   "cell_type": "markdown",
   "metadata": {},
   "source": [
    "Exercise 4"
   ]
  },
  {
   "cell_type": "code",
   "execution_count": 19,
   "metadata": {},
   "outputs": [
    {
     "name": "stdout",
     "output_type": "stream",
     "text": [
      "I'm working on your Grilled Cheese sandwich.\n",
      "I'm working on your Tuna sandwich.\n",
      "I'm working on your Beef Jerkey sandwich.\n",
      "I'm working on your BLT sandwich.\n",
      "I'm working on your Pastrami sandwich.\n",
      "\n",
      "\n",
      "I made a Grilled Cheese sandwich.\n",
      "I made a Tuna sandwich.\n",
      "I made a Beef Jerkey sandwich.\n",
      "I made a BLT sandwich.\n",
      "I made a Pastrami sandwich.\n"
     ]
    }
   ],
   "source": [
    "sandwich_orders = [\"Pastrami\", \"BLT\", \"Beef Jerkey\", \"Tuna\", \"Grilled Cheese\"]\n",
    "finished_sandwiches = []\n",
    "\n",
    "while sandwich_orders:\n",
    "    current_sandwich = sandwich_orders.pop()\n",
    "    print(\"I'm working on your \" + current_sandwich + \" sandwich.\")\n",
    "    finished_sandwiches.append(current_sandwich)\n",
    "\n",
    "print(\"\\n\")\n",
    "for sandwich in finished_sandwiches:\n",
    "    print(\"I made a \" + sandwich + \" sandwich.\")\n"
   ]
  },
  {
   "cell_type": "markdown",
   "metadata": {},
   "source": [
    "Exercise 5"
   ]
  },
  {
   "cell_type": "code",
   "execution_count": 22,
   "metadata": {},
   "outputs": [
    {
     "name": "stdout",
     "output_type": "stream",
     "text": [
      "Sorry! The deli has run out of Pastrami sandwiches.\n",
      "\n",
      "\n",
      "I'm working on your Grilled Cheese sandwich.\n",
      "I'm working on your Tuna sandwich.\n",
      "I'm working on your Beef Jerkey sandwich.\n",
      "I'm working on your BLT sandwich.\n",
      "\n",
      "\n",
      "I made a Grilled Cheese sandwich.\n",
      "I made a Tuna sandwich.\n",
      "I made a Beef Jerkey sandwich.\n",
      "I made a BLT sandwich.\n"
     ]
    }
   ],
   "source": [
    "sandwich_orders = [\"Pastrami\", \"BLT\", \"Pastrami\", \"Pastrami\", \"Beef Jerkey\", \"Tuna\", \"Grilled Cheese\"]\n",
    "finished_sandwiches = []\n",
    "\n",
    "print(\"Sorry! The deli has run out of Pastrami sandwiches.\")\n",
    "\n",
    "while 'Pastrami' in sandwich_orders:\n",
    "    sandwich_orders.remove('Pastrami')\n",
    "\n",
    "print(\"\\n\")\n",
    "while sandwich_orders:\n",
    "    current_sandwich = sandwich_orders.pop()\n",
    "    print(\"I'm working on your \" + current_sandwich + \" sandwich.\")\n",
    "    finished_sandwiches.append(current_sandwich)\n",
    "\n",
    "print(\"\\n\")\n",
    "for sandwich in finished_sandwiches:\n",
    "    print(\"I made a \" + sandwich + \" sandwich.\")\n",
    "    "
   ]
  }
 ],
 "metadata": {
  "kernelspec": {
   "display_name": "Python 3.10.6 64-bit",
   "language": "python",
   "name": "python3"
  },
  "language_info": {
   "codemirror_mode": {
    "name": "ipython",
    "version": 3
   },
   "file_extension": ".py",
   "mimetype": "text/x-python",
   "name": "python",
   "nbconvert_exporter": "python",
   "pygments_lexer": "ipython3",
   "version": "3.10.6"
  },
  "orig_nbformat": 4,
  "vscode": {
   "interpreter": {
    "hash": "b0fa6594d8f4cbf19f97940f81e996739fb7646882a419484c72d19e05852a7e"
   }
  }
 },
 "nbformat": 4,
 "nbformat_minor": 2
}
