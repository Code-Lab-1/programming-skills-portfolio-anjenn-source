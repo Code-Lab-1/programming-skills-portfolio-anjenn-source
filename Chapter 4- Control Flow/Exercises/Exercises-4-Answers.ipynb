{
 "cells": [
  {
   "cell_type": "markdown",
   "metadata": {},
   "source": [
    "Exercise 1"
   ]
  },
  {
   "cell_type": "code",
   "execution_count": 15,
   "metadata": {},
   "outputs": [
    {
     "name": "stdout",
     "output_type": "stream",
     "text": [
      "You just earned 5 points!\n"
     ]
    }
   ],
   "source": [
    "alien_color = 'green'\n",
    "\n",
    "if alien_color == 'green':\n",
    "    print(\"You just earned 5 points!\")"
   ]
  },
  {
   "cell_type": "code",
   "execution_count": 16,
   "metadata": {},
   "outputs": [],
   "source": [
    "alien_color = 'green'\n",
    "\n",
    "if alien_color == 'red':\n",
    "    print(\"You just earned 5 points!\")"
   ]
  },
  {
   "cell_type": "markdown",
   "metadata": {},
   "source": [
    "Exercise 2"
   ]
  },
  {
   "cell_type": "code",
   "execution_count": 17,
   "metadata": {},
   "outputs": [
    {
     "name": "stdout",
     "output_type": "stream",
     "text": [
      "You just earned 5 points for shooting the alien!\n"
     ]
    }
   ],
   "source": [
    "alien_color = 'green'\n",
    "if alien_color == 'green':\n",
    "    print(\"You just earned 5 points for shooting the alien!\")\n",
    "else:\n",
    "    print(\"You just earned 10 points!\")"
   ]
  },
  {
   "cell_type": "code",
   "execution_count": 18,
   "metadata": {},
   "outputs": [
    {
     "name": "stdout",
     "output_type": "stream",
     "text": [
      "You just earned 10 points!\n"
     ]
    }
   ],
   "source": [
    "alien_color = 'red'\n",
    "if alien_color == 'green':\n",
    "    print(\"You just earned 5 points for shooting the alien!\")\n",
    "else:\n",
    "    print(\"You just earned 10 points!\")"
   ]
  },
  {
   "cell_type": "markdown",
   "metadata": {},
   "source": [
    "Exercise 3"
   ]
  },
  {
   "cell_type": "code",
   "execution_count": 20,
   "metadata": {},
   "outputs": [
    {
     "name": "stdout",
     "output_type": "stream",
     "text": [
      "You just earned 5 points!\n"
     ]
    }
   ],
   "source": [
    "alien_color = 'green'\n",
    "if alien_color == 'green':\n",
    "    print(\"You just earned 5 points!\")\n",
    "elif alien_color == 'yellow':\n",
    "    print(\"You just earned 10 points!\")\n",
    "elif alien_color == 'red':\n",
    "    print(\"You just earned 15 points!\")"
   ]
  },
  {
   "cell_type": "code",
   "execution_count": 21,
   "metadata": {},
   "outputs": [
    {
     "name": "stdout",
     "output_type": "stream",
     "text": [
      "You just earned 10 points!\n"
     ]
    }
   ],
   "source": [
    "alien_color = 'yellow'\n",
    "if alien_color == 'green':\n",
    "    print(\"You just earned 5 points!\")\n",
    "elif alien_color == 'yellow':\n",
    "    print(\"You just earned 10 points!\")\n",
    "elif alien_color == 'red':\n",
    "    print(\"You just earned 15 points!\")"
   ]
  },
  {
   "cell_type": "code",
   "execution_count": 22,
   "metadata": {},
   "outputs": [
    {
     "name": "stdout",
     "output_type": "stream",
     "text": [
      "You just earned 15 points!\n"
     ]
    }
   ],
   "source": [
    "alien_color = 'red'\n",
    "if alien_color == 'green':\n",
    "    print(\"You just earned 5 points!\")\n",
    "elif alien_color == 'yellow':\n",
    "    print(\"You just earned 10 points!\")\n",
    "elif alien_color == 'red':\n",
    "    print(\"You just earned 15 points!\")"
   ]
  },
  {
   "cell_type": "markdown",
   "metadata": {},
   "source": [
    "Exercise 4"
   ]
  },
  {
   "cell_type": "code",
   "execution_count": 33,
   "metadata": {},
   "outputs": [
    {
     "name": "stdout",
     "output_type": "stream",
     "text": [
      "You're just a baby!\n"
     ]
    }
   ],
   "source": [
    "age = 1\n",
    "if age < 2:\n",
    "    print(\"You\\'re just a baby!\")\n",
    "elif age >= 2 and age < 4:\n",
    "    print(\"You\\'re a toddler!\")\n",
    "elif age >= 4 and age < 13:\n",
    "    print(\"Crazy! You\\'re a kid!\")\n",
    "elif age >= 13 and age < 20:\n",
    "    print(\"You\\'re a teenager!\")\n",
    "elif age >= 20 and age < 65:\n",
    "    print(\"You\\'re an adult!\")\n",
    "else:\n",
    "    print(\"You\\'re an elder.\")"
   ]
  },
  {
   "cell_type": "markdown",
   "metadata": {},
   "source": [
    "Exercise 5"
   ]
  },
  {
   "cell_type": "code",
   "execution_count": 37,
   "metadata": {},
   "outputs": [
    {
     "name": "stdout",
     "output_type": "stream",
     "text": [
      "Apple is present!\n"
     ]
    }
   ],
   "source": [
    "fruits = [\"apple\", \"banana\", \"pears\", \"blueberries\"]\n",
    "if 'apple' in fruits:\n",
    "    print(\"Apple is present!\")\n"
   ]
  },
  {
   "cell_type": "code",
   "execution_count": 38,
   "metadata": {},
   "outputs": [
    {
     "name": "stdout",
     "output_type": "stream",
     "text": [
      "You really like starfruits!\n"
     ]
    }
   ],
   "source": [
    "favourite_fruits = [\"starfruit\", \"orange\", \"jackfruit\"]\n",
    "if 'apple' in favourite_fruits:\n",
    "    print(\"You really like apples!\")\n",
    "elif 'banana' in favourite_fruits:\n",
    "    print(\"You really like bananas!\")\n",
    "elif 'starfruit' in favourite_fruits:\n",
    "    print(\"You really like starfruits!\")\n",
    "elif 'avocados' in favourite_fruits:\n",
    "    print(\"You really like bananas!\")\n",
    "else:\n",
    "    print(\"You don\\'t like that do you?\")"
   ]
  }
 ],
 "metadata": {
  "kernelspec": {
   "display_name": "Python 3.10.6 64-bit",
   "language": "python",
   "name": "python3"
  },
  "language_info": {
   "codemirror_mode": {
    "name": "ipython",
    "version": 3
   },
   "file_extension": ".py",
   "mimetype": "text/x-python",
   "name": "python",
   "nbconvert_exporter": "python",
   "pygments_lexer": "ipython3",
   "version": "3.10.6"
  },
  "orig_nbformat": 4,
  "vscode": {
   "interpreter": {
    "hash": "b0fa6594d8f4cbf19f97940f81e996739fb7646882a419484c72d19e05852a7e"
   }
  }
 },
 "nbformat": 4,
 "nbformat_minor": 2
}
