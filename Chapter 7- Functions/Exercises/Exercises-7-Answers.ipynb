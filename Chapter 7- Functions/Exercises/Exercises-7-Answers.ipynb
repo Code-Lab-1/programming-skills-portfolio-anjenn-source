{
 "cells": [
  {
   "cell_type": "markdown",
   "metadata": {},
   "source": [
    "Exercise 1"
   ]
  },
  {
   "cell_type": "code",
   "execution_count": 5,
   "metadata": {},
   "outputs": [
    {
     "name": "stdout",
     "output_type": "stream",
     "text": [
      "I'm learning to create new personalized functions.\n"
     ]
    }
   ],
   "source": [
    "def display_message():\n",
    "    msg = \"I'm learning to create new personalized functions.\"\n",
    "    print(msg)\n",
    "\n",
    "display_message()"
   ]
  },
  {
   "cell_type": "markdown",
   "metadata": {},
   "source": [
    "Exercise 2"
   ]
  },
  {
   "cell_type": "code",
   "execution_count": 12,
   "metadata": {},
   "outputs": [
    {
     "name": "stdout",
     "output_type": "stream",
     "text": [
      "My favorite book is Throne of Glass.\n"
     ]
    }
   ],
   "source": [
    "def favorite_book(title):\n",
    "    print(\"My favorite book is \" + title + \".\") \n",
    "    \n",
    "favorite_book(\"Throne of Glass\")"
   ]
  },
  {
   "cell_type": "markdown",
   "metadata": {},
   "source": [
    "Exercise 3"
   ]
  },
  {
   "cell_type": "code",
   "execution_count": 33,
   "metadata": {},
   "outputs": [
    {
     "name": "stdout",
     "output_type": "stream",
     "text": [
      "\n",
      "The shirt will be a small t-shirt.\n",
      "Text should be \"Go Team!\"\n",
      "\n",
      "The shirt will be a small t-shirt.\n",
      "Text should be \"Coding is fun!\"\n"
     ]
    }
   ],
   "source": [
    "def make_shirt(size, message):\n",
    "    print(\"\\nThe shirt will be a \" + size + \" t-shirt.\")\n",
    "    print(\"Text should be \" '\"' + message + '\"')\n",
    "\n",
    "make_shirt(\"small\", \"Go Team!\")\n",
    "make_shirt(message=\"Coding is fun!\", size='small')\n"
   ]
  },
  {
   "cell_type": "markdown",
   "metadata": {},
   "source": [
    "Exercise 4"
   ]
  },
  {
   "cell_type": "code",
   "execution_count": 1,
   "metadata": {},
   "outputs": [
    {
     "name": "stdout",
     "output_type": "stream",
     "text": [
      "\n",
      "The shirt is a large size shirt that says \"I love Python\"\n",
      "\n",
      "The shirt is a medium size shirt that says \"I love Python\"\n",
      "\n",
      "The shirt is a small size shirt that says \"I am ready!\"\n"
     ]
    }
   ],
   "source": [
    "def make_shirt(size = 'large', text = '\"I love Python\"'):\n",
    "    print(\"\\nThe shirt is a \" + size + \" size shirt that says \" + text)\n",
    "\n",
    "make_shirt()\n",
    "make_shirt('medium')\n",
    "make_shirt('small','\"I am ready!\"')"
   ]
  },
  {
   "cell_type": "markdown",
   "metadata": {},
   "source": [
    "Exercise 5"
   ]
  },
  {
   "cell_type": "code",
   "execution_count": 2,
   "metadata": {},
   "outputs": [
    {
     "name": "stdout",
     "output_type": "stream",
     "text": [
      "Prague is in Czech Republic.\n",
      "Manila is in Philippines.\n",
      "Iloilo is in Philippines.\n"
     ]
    }
   ],
   "source": [
    "def describe_city(city, country = \"Philippines\"):\n",
    "    print(city + \" is in \" + country + \".\")\n",
    "\n",
    "describe_city(\"Prague\", \"Czech Republic\")\n",
    "describe_city(\"Manila\")\n",
    "describe_city(\"Iloilo\")"
   ]
  }
 ],
 "metadata": {
  "kernelspec": {
   "display_name": "Python 3.10.6 64-bit",
   "language": "python",
   "name": "python3"
  },
  "language_info": {
   "codemirror_mode": {
    "name": "ipython",
    "version": 3
   },
   "file_extension": ".py",
   "mimetype": "text/x-python",
   "name": "python",
   "nbconvert_exporter": "python",
   "pygments_lexer": "ipython3",
   "version": "3.10.6"
  },
  "orig_nbformat": 4,
  "vscode": {
   "interpreter": {
    "hash": "b0fa6594d8f4cbf19f97940f81e996739fb7646882a419484c72d19e05852a7e"
   }
  }
 },
 "nbformat": 4,
 "nbformat_minor": 2
}
