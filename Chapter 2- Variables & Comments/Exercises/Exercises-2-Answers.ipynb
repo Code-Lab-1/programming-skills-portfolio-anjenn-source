{
 "cells": [
  {
   "cell_type": "markdown",
   "metadata": {},
   "source": [
    "Exercise 1"
   ]
  },
  {
   "cell_type": "code",
   "execution_count": 46,
   "metadata": {},
   "outputs": [
    {
     "name": "stdout",
     "output_type": "stream",
     "text": [
      "My name is Anne\n",
      "My name is not Anne\n"
     ]
    }
   ],
   "source": [
    "a = \"My name is Anne\"\n",
    "print(a)\n",
    "a = \"My name is not Anne\"\n",
    "print(a)"
   ]
  },
  {
   "cell_type": "markdown",
   "metadata": {},
   "source": [
    "Exercise 2\n"
   ]
  },
  {
   "cell_type": "code",
   "execution_count": 47,
   "metadata": {},
   "outputs": [
    {
     "name": "stdout",
     "output_type": "stream",
     "text": [
      "Nadine Lustre once said, I've been frantic all day. My cortisol level hasn't been this high in ages.\n"
     ]
    }
   ],
   "source": [
    "quote = \"I\\'ve been frantic all day. My cortisol level hasn\\'t been this high in ages.\"\n",
    "who = \"Nadine Lustre once said, \"\n",
    "print(who + quote)"
   ]
  },
  {
   "cell_type": "markdown",
   "metadata": {},
   "source": [
    "Exercise 3"
   ]
  },
  {
   "cell_type": "code",
   "execution_count": 53,
   "metadata": {},
   "outputs": [
    {
     "name": "stdout",
     "output_type": "stream",
     "text": [
      " \tAnne Dabuyan\n",
      " \n",
      "Anne Dabuyan\n",
      " \n",
      " \tAnne Dabuyan\n",
      "Anne Dabuyan\n"
     ]
    }
   ],
   "source": [
    "fullname = \" \\tAnne Dabuyan\\n \"\n",
    "print(fullname)\n",
    "print(fullname.lstrip())\n",
    "print(fullname.rstrip())\n",
    "print(fullname.strip())"
   ]
  },
  {
   "cell_type": "markdown",
   "metadata": {},
   "source": [
    "Exercise 4"
   ]
  },
  {
   "cell_type": "code",
   "execution_count": 59,
   "metadata": {},
   "outputs": [
    {
     "name": "stdout",
     "output_type": "stream",
     "text": [
      "4 is my favourite number.\n"
     ]
    }
   ],
   "source": [
    "a = str(4)\n",
    "b = \" is my favourite number.\"\n",
    "print(a + b)"
   ]
  },
  {
   "cell_type": "markdown",
   "metadata": {},
   "source": [
    "Exercise 5"
   ]
  },
  {
   "cell_type": "code",
   "execution_count": 80,
   "metadata": {},
   "outputs": [
    {
     "name": "stdout",
     "output_type": "stream",
     "text": [
      "She can buy 8 USBs and have 2 pounds left\n"
     ]
    }
   ],
   "source": [
    "money = 50\n",
    "usb = 6\n",
    "a = int(money/usb)\n",
    "b = money%usb\n",
    "print (\"She can buy \" + str(a) + \" USBs and have \" + str(b) + \" pounds left\")"
   ]
  }
 ],
 "metadata": {
  "kernelspec": {
   "display_name": "Python 3.10.6 64-bit",
   "language": "python",
   "name": "python3"
  },
  "language_info": {
   "codemirror_mode": {
    "name": "ipython",
    "version": 3
   },
   "file_extension": ".py",
   "mimetype": "text/x-python",
   "name": "python",
   "nbconvert_exporter": "python",
   "pygments_lexer": "ipython3",
   "version": "3.10.6"
  },
  "orig_nbformat": 4,
  "vscode": {
   "interpreter": {
    "hash": "b0fa6594d8f4cbf19f97940f81e996739fb7646882a419484c72d19e05852a7e"
   }
  }
 },
 "nbformat": 4,
 "nbformat_minor": 2
}
