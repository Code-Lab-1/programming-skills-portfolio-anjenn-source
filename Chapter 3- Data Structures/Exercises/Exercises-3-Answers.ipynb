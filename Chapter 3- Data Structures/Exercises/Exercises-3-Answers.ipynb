{
 "cells": [
  {
   "cell_type": "markdown",
   "metadata": {},
   "source": [
    "Exercise 1"
   ]
  },
  {
   "cell_type": "code",
   "execution_count": 7,
   "metadata": {},
   "outputs": [
    {
     "name": "stdout",
     "output_type": "stream",
     "text": [
      "Anne\n",
      "Bianca\n",
      "David\n",
      "Amal\n"
     ]
    }
   ],
   "source": [
    "names = [\"Anne\", \"Bianca\", \"David\", \"Amal\"]\n",
    "print(names[0])\n",
    "print(names[1])\n",
    "print(names[2])\n",
    "print(names[3])"
   ]
  },
  {
   "cell_type": "markdown",
   "metadata": {},
   "source": [
    "Exercise 2"
   ]
  },
  {
   "cell_type": "code",
   "execution_count": 21,
   "metadata": {},
   "outputs": [
    {
     "name": "stdout",
     "output_type": "stream",
     "text": [
      "I miss you Anne\n",
      "I miss you Bianca\n",
      "I miss you David\n",
      "I miss you Amal\n"
     ]
    }
   ],
   "source": [
    "names = [\"Anne\", \"Bianca\", \"David\", \"Amal\"]\n",
    "print(\"I miss you \" + names[0])\n",
    "print(\"I miss you \" + names[1])\n",
    "print(\"I miss you \" + names[2])\n",
    "print(\"I miss you \" + names[3])"
   ]
  },
  {
   "cell_type": "markdown",
   "metadata": {},
   "source": [
    "Exercise 3"
   ]
  },
  {
   "cell_type": "code",
   "execution_count": 28,
   "metadata": {},
   "outputs": [
    {
     "name": "stdout",
     "output_type": "stream",
     "text": [
      "I get motion sickness so I can't ride cars\n",
      "I get motion sickness so I can't ride trains\n",
      "I get motion sickness so I can't ride airplanes\n"
     ]
    }
   ],
   "source": [
    "transpo = [\"cars\", \"trains\", \"airplanes\"]\n",
    "print(\"I get motion sickness so I can\\'t ride \" + transpo[0])\n",
    "print(\"I get motion sickness so I can\\'t ride \" + transpo[1])\n",
    "print(\"I get motion sickness so I can\\'t ride \" + transpo[2])\n",
    "\n"
   ]
  },
  {
   "cell_type": "markdown",
   "metadata": {},
   "source": [
    "Exercise 4"
   ]
  },
  {
   "cell_type": "code",
   "execution_count": 30,
   "metadata": {},
   "outputs": [
    {
     "name": "stdout",
     "output_type": "stream",
     "text": [
      "Let's go to dinner, Oprah\n",
      "Let's go to dinner, Beyonce\n",
      "Let's go to dinner, Nadine\n",
      "Let's go to dinner, James\n"
     ]
    }
   ],
   "source": [
    "names = [\"Oprah\", \"Beyonce\", \"Nadine\", \"James\"]\n",
    "print(\"Let\\'s go to dinner, \" + names[0])\n",
    "print(\"Let\\'s go to dinner, \" + names[1])\n",
    "print(\"Let\\'s go to dinner, \" + names[2])\n",
    "print(\"Let\\'s go to dinner, \" + names[3])"
   ]
  },
  {
   "cell_type": "markdown",
   "metadata": {},
   "source": [
    "Exercise 5"
   ]
  },
  {
   "cell_type": "code",
   "execution_count": 33,
   "metadata": {},
   "outputs": [
    {
     "name": "stdout",
     "output_type": "stream",
     "text": [
      "['Oprah', 'Beyonce', 'Nadine', 'James']\n",
      "['Juno', 'Beyonce', 'Nadine', 'James']\n",
      "Let's go to dinner, Juno\n",
      "Let's go to dinner, Beyonce\n",
      "Let's go to dinner, Nadine\n",
      "Let's go to dinner, James\n"
     ]
    }
   ],
   "source": [
    "names = [\"Oprah\", \"Beyonce\", \"Nadine\", \"James\"]\n",
    "print(names)\n",
    "names[0] = \"Juno\"\n",
    "print(names)\n",
    "print(\"Let\\'s go to dinner, \" + names[0])\n",
    "print(\"Let\\'s go to dinner, \" + names[1])\n",
    "print(\"Let\\'s go to dinner, \" + names[2])\n",
    "print(\"Let\\'s go to dinner, \" + names[3])"
   ]
  },
  {
   "cell_type": "markdown",
   "metadata": {},
   "source": [
    "Exercise 6"
   ]
  },
  {
   "cell_type": "code",
   "execution_count": 47,
   "metadata": {},
   "outputs": [
    {
     "name": "stdout",
     "output_type": "stream",
     "text": [
      "Unfortunately, I can only invite two people.\n",
      "Sorry James\n",
      "Sorry Nadine\n",
      "['Oprah', 'Beyonce']\n",
      "You're still invited Oprah!\n",
      "You're still invited Beyonce!\n"
     ]
    },
    {
     "ename": "NameError",
     "evalue": "name 'names' is not defined",
     "output_type": "error",
     "traceback": [
      "\u001b[0;31m---------------------------------------------------------------------------\u001b[0m",
      "\u001b[0;31mNameError\u001b[0m                                 Traceback (most recent call last)",
      "Cell \u001b[0;32mIn [47], line 15\u001b[0m\n\u001b[1;32m     12\u001b[0m \u001b[39mprint\u001b[39m(\u001b[39m\"\u001b[39m\u001b[39mYou\u001b[39m\u001b[39m\\'\u001b[39;00m\u001b[39mre still invited \u001b[39m\u001b[39m\"\u001b[39m \u001b[39m+\u001b[39m names[\u001b[39m1\u001b[39m] \u001b[39m+\u001b[39m \u001b[39m\"\u001b[39m\u001b[39m!\u001b[39m\u001b[39m\"\u001b[39m)\n\u001b[1;32m     14\u001b[0m \u001b[39mdel\u001b[39;00m names\n\u001b[0;32m---> 15\u001b[0m \u001b[39mprint\u001b[39m(names)\n",
      "\u001b[0;31mNameError\u001b[0m: name 'names' is not defined"
     ]
    }
   ],
   "source": [
    "names = [\"Oprah\", \"Beyonce\", \"Nadine\", \"James\"]\n",
    "\n",
    "print(\"Unfortunately, I can only invite two people.\")\n",
    "print(\"Sorry \" + names[3])\n",
    "names.pop()\n",
    "print(\"Sorry \" + names[2])\n",
    "names.pop()\n",
    "\n",
    "print(names)\n",
    "\n",
    "print(\"You\\'re still invited \" + names[0] + \"!\")\n",
    "print(\"You\\'re still invited \" + names[1] + \"!\")\n",
    "\n",
    "del names\n",
    "print(names)"
   ]
  },
  {
   "cell_type": "markdown",
   "metadata": {},
   "source": [
    "Exercise 7"
   ]
  },
  {
   "cell_type": "code",
   "execution_count": 63,
   "metadata": {},
   "outputs": [
    {
     "name": "stdout",
     "output_type": "stream",
     "text": [
      "['Turkey', 'Italy', 'Thailand', 'Japan', 'Prague']\n",
      "['Italy', 'Japan', 'Prague', 'Thailand', 'Turkey']\n",
      "['Turkey', 'Italy', 'Thailand', 'Japan', 'Prague']\n",
      "['Turkey', 'Thailand', 'Prague', 'Japan', 'Italy']\n",
      "['Turkey', 'Italy', 'Thailand', 'Japan', 'Prague']\n",
      "['Prague', 'Japan', 'Thailand', 'Italy', 'Turkey']\n",
      "['Turkey', 'Italy', 'Thailand', 'Japan', 'Prague']\n",
      "['Turkey', 'Italy', 'Thailand', 'Japan', 'Prague']\n",
      "['Italy', 'Japan', 'Prague', 'Thailand', 'Turkey']\n",
      "['Turkey', 'Thailand', 'Prague', 'Japan', 'Italy']\n"
     ]
    }
   ],
   "source": [
    "places = [\"Turkey\", \"Italy\", \"Thailand\", \"Japan\", \"Prague\"]\n",
    "print(places)\n",
    "print(sorted(places))\n",
    "\n",
    "print(places)\n",
    "x = sorted(places, reverse=True)\n",
    "print(x)\n",
    "\n",
    "print(places)\n",
    "places.reverse()\n",
    "print(places)\n",
    "places.reverse()\n",
    "print(places)\n",
    "\n",
    "print(places)\n",
    "places.sort()\n",
    "print(places)\n",
    "\n",
    "places.sort(reverse=True)\n",
    "print(places)\n"
   ]
  }
 ],
 "metadata": {
  "kernelspec": {
   "display_name": "Python 3.10.6 64-bit",
   "language": "python",
   "name": "python3"
  },
  "language_info": {
   "codemirror_mode": {
    "name": "ipython",
    "version": 3
   },
   "file_extension": ".py",
   "mimetype": "text/x-python",
   "name": "python",
   "nbconvert_exporter": "python",
   "pygments_lexer": "ipython3",
   "version": "3.10.6"
  },
  "orig_nbformat": 4,
  "vscode": {
   "interpreter": {
    "hash": "b0fa6594d8f4cbf19f97940f81e996739fb7646882a419484c72d19e05852a7e"
   }
  }
 },
 "nbformat": 4,
 "nbformat_minor": 2
}
