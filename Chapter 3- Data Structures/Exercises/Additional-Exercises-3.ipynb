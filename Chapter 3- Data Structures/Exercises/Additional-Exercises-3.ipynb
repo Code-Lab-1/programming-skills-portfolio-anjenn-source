{
 "cells": [
  {
   "cell_type": "markdown",
   "metadata": {},
   "source": [
    "Write a program to remove the item at index 6 and add it to the 3rd position."
   ]
  },
  {
   "cell_type": "code",
   "execution_count": 8,
   "metadata": {},
   "outputs": [
    {
     "name": "stdout",
     "output_type": "stream",
     "text": [
      "Original list  [25, 32, 34, 56, 45, 67, 52]\n",
      "List after removing index 6 variable [25, 32, 34, 56, 45, 67]\n",
      "List after adding variable to index 3 [25, 32, 34, 52, 56, 45, 67]\n"
     ]
    }
   ],
   "source": [
    "list = [25, 32, 34, 56, 45, 67, 52]\n",
    "\n",
    "print(\"Original list \", list)\n",
    "element = list.pop(6)\n",
    "print(\"List after removing index 6 variable\", list)\n",
    "\n",
    "list.insert(3, element)\n",
    "print(\"List after adding variable to index 3\", list)"
   ]
  },
  {
   "cell_type": "markdown",
   "metadata": {},
   "source": [
    "Write a program to print all the odd index items in a list."
   ]
  },
  {
   "cell_type": "code",
   "execution_count": 13,
   "metadata": {},
   "outputs": [
    {
     "name": "stdout",
     "output_type": "stream",
     "text": [
      "Elements at the odd-index positions from the list\n",
      "[45, 53, 37, 17]\n"
     ]
    }
   ],
   "source": [
    "list = [23, 45, 65, 53, 95, 37, 10, 17]\n",
    "odd_elements = list[1::2]\n",
    "print(\"Elements at the odd-index positions from the list\")\n",
    "print(odd_elements)"
   ]
  },
  {
   "cell_type": "markdown",
   "metadata": {},
   "source": [
    "Write a program to iterate a given list and count the occurrence of each element and create a dictionary to show the count of each."
   ]
  },
  {
   "cell_type": "code",
   "execution_count": 15,
   "metadata": {},
   "outputs": [
    {
     "name": "stdout",
     "output_type": "stream",
     "text": [
      "Original list  [12, 46, 9, 12, 24, 46, 24, 46, 90]\n",
      "Count of each item   {12: 2, 46: 3, 9: 1, 24: 2, 90: 1}\n"
     ]
    }
   ],
   "source": [
    "list = [12, 46, 9, 12, 24, 46, 24, 46, 90]\n",
    "print(\"Original list \", list)\n",
    "\n",
    "count_dict = dict()\n",
    "for item in list:\n",
    "    if item in count_dict:\n",
    "        count_dict[item] += 1\n",
    "    else:\n",
    "        count_dict[item] = 1\n",
    "\n",
    "print(\"Count of each item  \", count_dict)"
   ]
  }
 ],
 "metadata": {
  "kernelspec": {
   "display_name": "Python 3.10.6 64-bit",
   "language": "python",
   "name": "python3"
  },
  "language_info": {
   "codemirror_mode": {
    "name": "ipython",
    "version": 3
   },
   "file_extension": ".py",
   "mimetype": "text/x-python",
   "name": "python",
   "nbconvert_exporter": "python",
   "pygments_lexer": "ipython3",
   "version": "3.10.6"
  },
  "orig_nbformat": 4,
  "vscode": {
   "interpreter": {
    "hash": "b0fa6594d8f4cbf19f97940f81e996739fb7646882a419484c72d19e05852a7e"
   }
  }
 },
 "nbformat": 4,
 "nbformat_minor": 2
}
