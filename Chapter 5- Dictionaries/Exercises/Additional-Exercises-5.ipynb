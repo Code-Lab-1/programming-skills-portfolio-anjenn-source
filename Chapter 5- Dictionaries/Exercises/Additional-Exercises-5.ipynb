{
 "cells": [
  {
   "cell_type": "markdown",
   "metadata": {},
   "source": [
    "Write a Python program to concatenate the dictionaries in order to make a new one."
   ]
  },
  {
   "cell_type": "code",
   "execution_count": 1,
   "metadata": {},
   "outputs": [
    {
     "name": "stdout",
     "output_type": "stream",
     "text": [
      "{1: 10, 2: 20, 3: 30, 4: 40}\n"
     ]
    }
   ],
   "source": [
    "dictionary_1 = {1:10, 2:20}\n",
    "dictionary_2={3:30, 4:40}\n",
    "dictionary_3 = {}\n",
    "for d in (dictionary_1, dictionary_2): dictionary_3.update(d)\n",
    "print(dictionary_3)"
   ]
  },
  {
   "cell_type": "markdown",
   "metadata": {},
   "source": [
    "Write a Python program to check whether a key already exists in the dictionary."
   ]
  },
  {
   "cell_type": "code",
   "execution_count": 2,
   "metadata": {},
   "outputs": [
    {
     "name": "stdout",
     "output_type": "stream",
     "text": [
      "Key is within the dictionary\n",
      "Key is not in the dictionary\n"
     ]
    }
   ],
   "source": [
    "num = {1: 15, 2: 30, 3: 45, 4: 60, 5: 75, 6: 90}\n",
    "def is_key_present(x):\n",
    "  if x in num:\n",
    "      print('Key is within the dictionary')\n",
    "  else:\n",
    "      print('Key is not in the dictionary')\n",
    "is_key_present(5)\n",
    "is_key_present(9)"
   ]
  },
  {
   "cell_type": "markdown",
   "metadata": {},
   "source": [
    "Write a Python program to remove a key from a dictionary"
   ]
  },
  {
   "cell_type": "code",
   "execution_count": 4,
   "metadata": {},
   "outputs": [
    {
     "name": "stdout",
     "output_type": "stream",
     "text": [
      "{'a': 2, 'b': 4, 'c': 6, 'd': 8}\n",
      "{'b': 4, 'c': 6, 'd': 8}\n"
     ]
    }
   ],
   "source": [
    "dictionary_1 = {'a':2,'b':4,'c':6,'d':8}\n",
    "print(dictionary_1)\n",
    "if 'a' in dictionary_1: \n",
    "    del dictionary_1['a']\n",
    "print(dictionary_1)\n"
   ]
  },
  {
   "cell_type": "markdown",
   "metadata": {},
   "source": [
    "Print a Python Program that removes duplicates from the dictionary."
   ]
  },
  {
   "cell_type": "code",
   "execution_count": 6,
   "metadata": {},
   "outputs": [
    {
     "name": "stdout",
     "output_type": "stream",
     "text": [
      "{'pl1': {'name': ['Anne'], 'sport': ['Volleyball']}, 'pl2': {'name': ['David'], 'sport': ['Basketball']}, 'pl3': {'name': ['Anne'], 'sport': ['Volleyball']}}\n",
      "{'pl1': {'name': ['Anne'], 'sport': ['Volleyball']}, 'pl2': {'name': ['David'], 'sport': ['Basketball']}}\n"
     ]
    }
   ],
   "source": [
    "player_data = {'pl1': \n",
    "   {'name': ['Anne'], \n",
    "    'sport': ['Volleyball'], \n",
    "   },\n",
    " 'pl2': \n",
    "  {'name': ['David'], \n",
    "    'sport': ['Basketball'], \n",
    "   },\n",
    " 'pl3': \n",
    "    {'name': ['Anne'], \n",
    "    'sport': ['Volleyball'], \n",
    "   },\n",
    "}\n",
    "result = {}\n",
    "print(player_data)\n",
    "\n",
    "for key,value in player_data.items():\n",
    "    if value not in result.values():\n",
    "        result[key] = value\n",
    "\n",
    "print(result)"
   ]
  },
  {
   "cell_type": "markdown",
   "metadata": {},
   "source": [
    "Write a Python program to check if a dictionary is empty."
   ]
  },
  {
   "cell_type": "code",
   "execution_count": 7,
   "metadata": {},
   "outputs": [
    {
     "name": "stdout",
     "output_type": "stream",
     "text": [
      "Dictionary is empty\n"
     ]
    }
   ],
   "source": [
    "dictionary_1 = {}\n",
    "if not bool(dictionary_1):\n",
    "    print(\"Dictionary is empty\")"
   ]
  }
 ],
 "metadata": {
  "kernelspec": {
   "display_name": "Python 3.10.6 64-bit",
   "language": "python",
   "name": "python3"
  },
  "language_info": {
   "codemirror_mode": {
    "name": "ipython",
    "version": 3
   },
   "file_extension": ".py",
   "mimetype": "text/x-python",
   "name": "python",
   "nbconvert_exporter": "python",
   "pygments_lexer": "ipython3",
   "version": "3.10.6"
  },
  "orig_nbformat": 4,
  "vscode": {
   "interpreter": {
    "hash": "b0fa6594d8f4cbf19f97940f81e996739fb7646882a419484c72d19e05852a7e"
   }
  }
 },
 "nbformat": 4,
 "nbformat_minor": 2
}
