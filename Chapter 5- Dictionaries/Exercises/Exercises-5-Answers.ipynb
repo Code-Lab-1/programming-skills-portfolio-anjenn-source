{
 "cells": [
  {
   "cell_type": "markdown",
   "metadata": {},
   "source": [
    "Exercise 1"
   ]
  },
  {
   "cell_type": "code",
   "execution_count": 4,
   "metadata": {},
   "outputs": [
    {
     "name": "stdout",
     "output_type": "stream",
     "text": [
      "{'first_name': 'Bianca', 'last_name': 'Dalangin', 'age': '21', 'city': 'Dubai'}\n"
     ]
    }
   ],
   "source": [
    "Friend = {\n",
    "    \"first_name\" : \"Bianca\", \n",
    "    \"last_name\" : \"Dalangin\", \n",
    "    \"age\" : \"21\", \n",
    "    \"city\" : \"Dubai\"}\n",
    "    \n",
    "print(Friend)"
   ]
  },
  {
   "cell_type": "markdown",
   "metadata": {},
   "source": [
    "Exercise 2"
   ]
  },
  {
   "cell_type": "code",
   "execution_count": 7,
   "metadata": {},
   "outputs": [
    {
     "name": "stdout",
     "output_type": "stream",
     "text": [
      "\n",
      "Print: Output strings, integers, or any other data type.\n",
      "\n",
      "Input: Allow the user to input numbers or booleans.\n",
      "\n",
      "Sort: Returns an array containing a copy of the data in the array and the elements sorted in increasing order.\n",
      "\n",
      "Dictionary: Used to store data values in key:value pairs.\n",
      "\n",
      "Loop: Looping means repeating something over and over until a particular condition is satisfied.\n"
     ]
    }
   ],
   "source": [
    "glossary = {\n",
    "    \"print\" : \"Output strings, integers, or any other data type.\",\n",
    "    \"input\" : \"Allow the user to input numbers or booleans.\",\n",
    "    \"sort\" : \"Returns an array containing a copy of the data in the array and the elements sorted in increasing order.\",\n",
    "    \"dictionary\" : \"Used to store data values in key:value pairs.\",\n",
    "    \"loop\" : \"Looping means repeating something over and over until a particular condition is satisfied.\"\n",
    "}\n",
    "word = 'print'\n",
    "print(\"\\n\" + word.title() + \": \" + glossary[word])\n",
    "\n",
    "word = 'input'\n",
    "print(\"\\n\" + word.title() + \": \" + glossary[word])\n",
    "\n",
    "word = 'sort'\n",
    "print(\"\\n\" + word.title() + \": \" + glossary[word])\n",
    "\n",
    "word = 'dictionary'\n",
    "print(\"\\n\" + word.title() + \": \" + glossary[word])\n",
    "\n",
    "word = 'loop'\n",
    "print(\"\\n\" + word.title() + \": \" + glossary[word])"
   ]
  },
  {
   "cell_type": "markdown",
   "metadata": {},
   "source": [
    "Exercise 3"
   ]
  },
  {
   "cell_type": "code",
   "execution_count": 10,
   "metadata": {},
   "outputs": [
    {
     "name": "stdout",
     "output_type": "stream",
     "text": [
      "\n",
      "Print : Output strings, integers, or any other data type.\n",
      "\n",
      "Input : Allow the user to input numbers or booleans.\n",
      "\n",
      "Sort : Returns an array containing a copy of the data in the array and the elements sorted in increasing order.\n",
      "\n",
      "Dictionary : Used to store data values in key:value pairs.\n",
      "\n",
      "Loop : Looping means repeating something over and over until a particular condition is satisfied.\n",
      "\n",
      "Float : A numerical value with a decimal component.\n",
      "\n",
      "Key : The first item in a key-value pair in a dictionary.\n",
      "\n",
      "String : A series of characters.\n",
      "\n",
      "Boolean Expression : A logical statement that is either TRUE or FALSE.\n",
      "\n",
      "Expression : A combination of operators and operands.\n"
     ]
    }
   ],
   "source": [
    "glossary = {\n",
    "    \"print\" : \"Output strings, integers, or any other data type.\",\n",
    "    \"input\" : \"Allow the user to input numbers or booleans.\",\n",
    "    \"sort\" : \"Returns an array containing a copy of the data in the array and the elements sorted in increasing order.\",\n",
    "    \"dictionary\" : \"Used to store data values in key:value pairs.\",\n",
    "    \"loop\" : \"Looping means repeating something over and over until a particular condition is satisfied.\",\n",
    "    \"float\": \"A numerical value with a decimal component.\",\n",
    "    \"key\" : \"The first item in a key-value pair in a dictionary.\",\n",
    "    \"string\" : \"A series of characters.\",\n",
    "    \"boolean expression\" : \"A logical statement that is either TRUE or FALSE.\",\n",
    "    \"expression\" : \"A combination of operators and operands.\"\n",
    "}\n",
    "\n",
    "for word, definition in glossary.items():\n",
    "    print(\"\\n\" + word.title() + \" : \" + definition)"
   ]
  },
  {
   "cell_type": "markdown",
   "metadata": {},
   "source": [
    "Exercise 4"
   ]
  },
  {
   "cell_type": "code",
   "execution_count": 17,
   "metadata": {},
   "outputs": [
    {
     "name": "stdout",
     "output_type": "stream",
     "text": [
      "\n",
      "The Nile runs through Egypt.\n",
      "\n",
      "The Amazon runs through Brazil.\n",
      "\n",
      "The Yangtze runs through China.\n",
      "\n",
      "The following rivers are included in this data set:\n",
      "Nile\n",
      "Amazon\n",
      "Yangtze\n",
      "\n",
      "The following countries are included in this data set:\n",
      "Egypt\n",
      "Brazil\n",
      "China\n"
     ]
    }
   ],
   "source": [
    "rivers = {\n",
    "    \"Nile\" : \"Egypt\",\n",
    "    \"Amazon\" : \"Brazil\",\n",
    "    \"Yangtze\" : \"China\"\n",
    "}\n",
    "\n",
    "for river, country in rivers.items():\n",
    "    print(\"\\n\" + \"The \" + river.title() + \" runs through \" + country.title() + \".\")\n",
    "\n",
    "print(\"\\nThe following rivers are included in this data set:\")\n",
    "for river in rivers.keys():\n",
    "    print(river.title())\n",
    "\n",
    "print(\"\\nThe following countries are included in this data set:\")\n",
    "for country in rivers.values():\n",
    "    print(country.title())\n"
   ]
  },
  {
   "cell_type": "markdown",
   "metadata": {},
   "source": [
    "Exercise 5"
   ]
  },
  {
   "cell_type": "code",
   "execution_count": 19,
   "metadata": {},
   "outputs": [
    {
     "name": "stdout",
     "output_type": "stream",
     "text": [
      "\n",
      "Let me introduce Shish:\n",
      "\tanimal type: snake\n",
      "\tname: shish\n",
      "\towner: khyle\n",
      "\n",
      "Let me introduce Chikoo:\n",
      "\tanimal type: rooster\n",
      "\tname: chikoo\n",
      "\towner: betty\n",
      "\n",
      "Let me introduce Muso:\n",
      "\tanimal type: cat\n",
      "\tname: muso\n",
      "\towner: marie\n"
     ]
    }
   ],
   "source": [
    "pets = []\n",
    "\n",
    "pet = {\n",
    "    'animal type': 'snake',\n",
    "    'name': 'shish',\n",
    "    'owner': 'khyle',\n",
    "}\n",
    "pets.append(pet)\n",
    "\n",
    "pet = {\n",
    "    'animal type': 'rooster',\n",
    "    'name': 'chikoo',\n",
    "    'owner': 'betty',\n",
    "}\n",
    "pets.append(pet)\n",
    "\n",
    "pet = {\n",
    "    'animal type': 'cat',\n",
    "    'name': 'muso',\n",
    "    'owner': 'marie',\n",
    "}\n",
    "pets.append(pet)\n",
    "\n",
    "# Display information about each pet.\n",
    "for pet in pets:\n",
    "    print(\"\\nLet me introduce \" + pet['name'].title() + \":\")\n",
    "    for key, value in pet.items():\n",
    "        print(\"\\t\" + key + \": \" + str(value))"
   ]
  }
 ],
 "metadata": {
  "kernelspec": {
   "display_name": "Python 3.10.6 64-bit",
   "language": "python",
   "name": "python3"
  },
  "language_info": {
   "codemirror_mode": {
    "name": "ipython",
    "version": 3
   },
   "file_extension": ".py",
   "mimetype": "text/x-python",
   "name": "python",
   "nbconvert_exporter": "python",
   "pygments_lexer": "ipython3",
   "version": "3.10.6"
  },
  "orig_nbformat": 4,
  "vscode": {
   "interpreter": {
    "hash": "b0fa6594d8f4cbf19f97940f81e996739fb7646882a419484c72d19e05852a7e"
   }
  }
 },
 "nbformat": 4,
 "nbformat_minor": 2
}
